{
 "cells": [
  {
   "cell_type": "code",
   "execution_count": 17,
   "id": "e9fde40b",
   "metadata": {},
   "outputs": [],
   "source": [
    "import pandas as pd\n",
    "\n",
    "# convert into dataframe\n",
    "#df = pd.read_excel(\"students.xlsx\")\n",
    "\n",
    "# convert into dictionary\n",
    "#dict = df.to_dict()\n",
    "#print(dict)"
   ]
  },
  {
   "cell_type": "code",
   "execution_count": 36,
   "id": "247935ca",
   "metadata": {},
   "outputs": [
    {
     "name": "stdout",
     "output_type": "stream",
     "text": [
      "{'balancer_v2_ethereum': {'chain': 'Ethereum', 'version': 'V2', 'protocol': 'Balancer', 'url': 'balancer-v2-ethereum'}, 'bancor_v3_ethereum': {'chain': 'Ethereum', 'version': 'V3', 'protocol': 'Bancor', 'url': 'bancor-v3-ethereum'}, 'platypus_finance_avalanche': {'chain': 'Avalanche', 'version': 'V1', 'protocol': 'Platypus', 'url': 'platypus-finance-avalanche'}, 'curve_finance_ethereum': {'chain': 'Ethereum', 'version': 'V1', 'protocol': 'Curve', 'url': 'curve-finance-ethereum'}, 'saddle_finance_ethereum': {'chain': 'Ethereum', 'version': 'V1', 'protocol': 'Saddle', 'url': 'saddle-finance-ethereum'}, 'sushiswap_avalanche': {'chain': 'Avalanche', 'version': 'V1', 'protocol': 'Sushiswap', 'url': 'sushiswap-avalanche'}, 'sushiswap_ethereum': {'chain': 'Ethereum', 'version': 'V1', 'protocol': 'Sushiswap', 'url': 'sushiswap-ethereum'}, 'uniswap_v3_polygon': {'chain': 'Polygon', 'version': 'V3', 'protocol': 'Uniswap', 'url': 'uniswap-v3-polygon'}, 'uniswap_v3_ethereum': {'chain': 'Ethereum', 'version': 'V3', 'protocol': 'Uniswap', 'url': 'uniswap-v3-ethereum'}, 'uniswap_v2_ethereum': {'chain': 'Ethereum', 'version': 'V2', 'protocol': 'Uniswap', 'url': 'uniswap-v2-ethereum'}}\n"
     ]
    }
   ],
   "source": [
    "xls = pd.ExcelFile(\"/Users/keroshanpillay/Desktop/Messari/Stable_Data/DEX_Data/DEX_protocol_slugs.xlsx\")\n",
    "df = pd.read_excel(xls, 'slugs')\n",
    "\n",
    "# convert into dictionary\n",
    "df = df.set_index('Unnamed: 0')\n",
    "instances = df.to_dict()\n",
    "print(instances)\n"
   ]
  },
  {
   "cell_type": "code",
   "execution_count": 30,
   "id": "046c8441",
   "metadata": {},
   "outputs": [
    {
     "data": {
      "text/plain": [
       "['chain', 'version', 'protocol', 'url_plug']"
      ]
     },
     "execution_count": 30,
     "metadata": {},
     "output_type": "execute_result"
    }
   ],
   "source": [
    "df.index.tolist()"
   ]
  },
  {
   "cell_type": "code",
   "execution_count": 37,
   "id": "4d66ed33",
   "metadata": {},
   "outputs": [
    {
     "data": {
      "text/html": [
       "<div>\n",
       "<style scoped>\n",
       "    .dataframe tbody tr th:only-of-type {\n",
       "        vertical-align: middle;\n",
       "    }\n",
       "\n",
       "    .dataframe tbody tr th {\n",
       "        vertical-align: top;\n",
       "    }\n",
       "\n",
       "    .dataframe thead th {\n",
       "        text-align: right;\n",
       "    }\n",
       "</style>\n",
       "<table border=\"1\" class=\"dataframe\">\n",
       "  <thead>\n",
       "    <tr style=\"text-align: right;\">\n",
       "      <th></th>\n",
       "      <th>balancer_v2_ethereum</th>\n",
       "      <th>bancor_v3_ethereum</th>\n",
       "      <th>platypus_finance_avalanche</th>\n",
       "      <th>curve_finance_ethereum</th>\n",
       "      <th>saddle_finance_ethereum</th>\n",
       "      <th>sushiswap_avalanche</th>\n",
       "      <th>sushiswap_ethereum</th>\n",
       "      <th>uniswap_v3_polygon</th>\n",
       "      <th>uniswap_v3_ethereum</th>\n",
       "      <th>uniswap_v2_ethereum</th>\n",
       "    </tr>\n",
       "  </thead>\n",
       "  <tbody>\n",
       "    <tr>\n",
       "      <th>chain</th>\n",
       "      <td>Ethereum</td>\n",
       "      <td>Ethereum</td>\n",
       "      <td>Avalanche</td>\n",
       "      <td>Ethereum</td>\n",
       "      <td>Ethereum</td>\n",
       "      <td>Avalanche</td>\n",
       "      <td>Ethereum</td>\n",
       "      <td>Polygon</td>\n",
       "      <td>Ethereum</td>\n",
       "      <td>Ethereum</td>\n",
       "    </tr>\n",
       "    <tr>\n",
       "      <th>version</th>\n",
       "      <td>V2</td>\n",
       "      <td>V3</td>\n",
       "      <td>V1</td>\n",
       "      <td>V1</td>\n",
       "      <td>V1</td>\n",
       "      <td>V1</td>\n",
       "      <td>V1</td>\n",
       "      <td>V3</td>\n",
       "      <td>V3</td>\n",
       "      <td>V2</td>\n",
       "    </tr>\n",
       "    <tr>\n",
       "      <th>protocol</th>\n",
       "      <td>Balancer</td>\n",
       "      <td>Bancor</td>\n",
       "      <td>Platypus</td>\n",
       "      <td>Curve</td>\n",
       "      <td>Saddle</td>\n",
       "      <td>Sushiswap</td>\n",
       "      <td>Sushiswap</td>\n",
       "      <td>Uniswap</td>\n",
       "      <td>Uniswap</td>\n",
       "      <td>Uniswap</td>\n",
       "    </tr>\n",
       "    <tr>\n",
       "      <th>url</th>\n",
       "      <td>balancer-v2-ethereum</td>\n",
       "      <td>bancor-v3-ethereum</td>\n",
       "      <td>platypus-finance-avalanche</td>\n",
       "      <td>curve-finance-ethereum</td>\n",
       "      <td>saddle-finance-ethereum</td>\n",
       "      <td>sushiswap-avalanche</td>\n",
       "      <td>sushiswap-ethereum</td>\n",
       "      <td>uniswap-v3-polygon</td>\n",
       "      <td>uniswap-v3-ethereum</td>\n",
       "      <td>uniswap-v2-ethereum</td>\n",
       "    </tr>\n",
       "  </tbody>\n",
       "</table>\n",
       "</div>"
      ],
      "text/plain": [
       "          balancer_v2_ethereum  bancor_v3_ethereum  \\\n",
       "chain                 Ethereum            Ethereum   \n",
       "version                     V2                  V3   \n",
       "protocol              Balancer              Bancor   \n",
       "url       balancer-v2-ethereum  bancor-v3-ethereum   \n",
       "\n",
       "          platypus_finance_avalanche  curve_finance_ethereum  \\\n",
       "chain                      Avalanche                Ethereum   \n",
       "version                           V1                      V1   \n",
       "protocol                    Platypus                   Curve   \n",
       "url       platypus-finance-avalanche  curve-finance-ethereum   \n",
       "\n",
       "          saddle_finance_ethereum  sushiswap_avalanche  sushiswap_ethereum  \\\n",
       "chain                    Ethereum            Avalanche            Ethereum   \n",
       "version                        V1                   V1                  V1   \n",
       "protocol                   Saddle            Sushiswap           Sushiswap   \n",
       "url       saddle-finance-ethereum  sushiswap-avalanche  sushiswap-ethereum   \n",
       "\n",
       "          uniswap_v3_polygon  uniswap_v3_ethereum  uniswap_v2_ethereum  \n",
       "chain                Polygon             Ethereum             Ethereum  \n",
       "version                   V3                   V3                   V2  \n",
       "protocol             Uniswap              Uniswap              Uniswap  \n",
       "url       uniswap-v3-polygon  uniswap-v3-ethereum  uniswap-v2-ethereum  "
      ]
     },
     "execution_count": 37,
     "metadata": {},
     "output_type": "execute_result"
    }
   ],
   "source": [
    "# -- define instances [TODO - add protocol to each name and dict]\n",
    "\n",
    "df = pd.DataFrame.from_dict(instances)\n",
    "df"
   ]
  }
 ],
 "metadata": {
  "kernelspec": {
   "display_name": "Python 3 (ipykernel)",
   "language": "python",
   "name": "python3"
  },
  "language_info": {
   "codemirror_mode": {
    "name": "ipython",
    "version": 3
   },
   "file_extension": ".py",
   "mimetype": "text/x-python",
   "name": "python",
   "nbconvert_exporter": "python",
   "pygments_lexer": "ipython3",
   "version": "3.9.12"
  }
 },
 "nbformat": 4,
 "nbformat_minor": 5
}
