{
 "cells": [
  {
   "cell_type": "markdown",
   "metadata": {
    "pycharm": {
     "name": "#%% md\n"
    }
   },
   "source": [
    "# -- load data "
   ]
  },
  {
   "cell_type": "code",
   "execution_count": 1,
   "metadata": {
    "pycharm": {
     "name": "#%%\n"
    }
   },
   "outputs": [],
   "source": [
    "# IMPORT\n",
    "# --- data sci\n",
    "import pandas as pd \n",
    "import math \n",
    "\n",
    "# --- plots \n",
    "import matplotlib\n",
    "\n",
    "# --- io \n",
    "import io\n",
    "import requests \n",
    "import datetime\n",
    "import time \n",
    "\n",
    "# --- local \n",
    "from importlib import reload\n",
    "\n",
    "# -- note you'll have install this \n",
    "from messygraphs import Lending\n",
    "from messygraphs.helpers import (\n",
    "    get_deployments\n",
    ")"
   ]
  },
  {
   "cell_type": "code",
   "execution_count": 1,
   "metadata": {
    "pycharm": {
     "name": "#%%\n"
    }
   },
   "outputs": [
    {
     "name": "stdout",
     "output_type": "stream",
     "text": [
      "warning, no data: {'errors': [{'locations': [{'column': 17, 'line': 16}], 'message': 'Type `FinancialsDailySnapshot` has no field `mintedTokenSupplies`'}, {'locations': [{'line': 22, 'column': 17}], 'message': 'Type `FinancialsDailySnapshot` has no field `totalDepositBalanceUSD`'}, {'locations': [{'line': 23, 'column': 17}], 'message': 'Type `FinancialsDailySnapshot` has no field `totalBorrowBalanceUSD`'}, {'locations': [{'column': 17, 'line': 25}], 'message': 'Type `FinancialsDailySnapshot` has no field `dailyDepositUSD`'}, {'locations': [{'line': 26, 'column': 17}], 'message': 'Type `FinancialsDailySnapshot` has no field `dailyBorrowUSD`'}, {'locations': [{'line': 27, 'column': 17}], 'message': 'Type `FinancialsDailySnapshot` has no field `dailyLiquidateUSD`'}, {'locations': [{'line': 28, 'column': 17}], 'message': 'Type `FinancialsDailySnapshot` has no field `dailyWithdrawUSD`'}, {'locations': [{'line': 29, 'column': 17}], 'message': 'Type `FinancialsDailySnapshot` has no field `dailyRepayUSD`'}]} {'query': '\\n            query($first: Int, $start: Int, $end: Int) {\\n              data: financialsDailySnapshots (first: $first, orderDirection: asc, orderBy: timestamp, where: {timestamp_gte: $start, timestamp_lt: $end}) {\\n                id\\n                blockNumber\\n                timestamp\\n\\n                #protocol {\\n                #  name\\n                #  network\\n                #}\\n\\n                totalValueLockedUSD\\n                protocolControlledValueUSD\\n\\n                mintedTokenSupplies\\n\\n                dailySupplySideRevenueUSD\\n                dailyProtocolSideRevenueUSD\\n                dailyTotalRevenueUSD\\n\\n                totalDepositBalanceUSD\\n                totalBorrowBalanceUSD\\n\\n                dailyDepositUSD\\n                dailyBorrowUSD\\n                dailyLiquidateUSD\\n                dailyWithdrawUSD\\n                dailyRepayUSD\\n              }\\n            }\\n        ', 'variables': {'first': 1000, 'start': 0, 'end': 1659951209}}\n",
      "warning, no data: {'errors': [{'locations': [{'line': 16, 'column': 17}], 'message': 'Type `UsageMetricsDailySnapshot` has no field `dailyRepayCount`'}, {'locations': [{'column': 17, 'line': 17}], 'message': 'Type `UsageMetricsDailySnapshot` has no field `dailyBorrowCount`'}, {'locations': [{'column': 17, 'line': 18}], 'message': 'Type `UsageMetricsDailySnapshot` has no field `dailyLiquidateCount`'}]} {'query': '\\n            query($first: Int, $start: Int, $end: Int) {\\n              data: usageMetricsDailySnapshots (first: $first, orderDirection: asc, orderBy: timestamp, where: {timestamp_gte: $start, timestamp_lt: $end}) {\\n                id\\n                timestamp\\n                blockNumber\\n                #protocol {\\n                #  name\\n                #  network\\n                #}\\n                dailyActiveUsers\\n                cumulativeUniqueUsers\\n                \\n                dailyTransactionCount\\n                dailyDepositCount\\n                dailyRepayCount\\n                dailyBorrowCount\\n                dailyLiquidateCount\\n                dailyWithdrawCount\\n                \\n                totalPoolCount\\n              }\\n            }\\n        ', 'variables': {'first': 1000, 'start': 0, 'end': 1659951209}}\n",
      "warning, no data: {'errors': [{'locations': [{'column': 15, 'line': 3}], 'message': 'Type `Query` has no field `marketDailySnapshots`'}]} {'query': '\\n            query($first: Int, $start: Int, $end: Int) {\\n              data: marketDailySnapshots(first: $first, orderDirection: asc, orderBy: timestamp, where: {timestamp_gte: $start, timestamp_lt: $end}) {\\n              \\n\\n                id\\n                #protocol\\n                market {\\n                  name\\n                  inputToken {\\n                    id\\n                    name\\n                    symbol\\n                    decimals\\n                  }\\n                  outputToken {\\n                    id\\n                    name\\n                    symbol\\n                    decimals\\n                  }\\n                  rewardTokens {\\n                    token {\\n                      id\\n                      name\\n                      symbol\\n                      decimals\\n                    }\\n                  }\\n                  maximumLTV\\n                  isActive\\n                }\\n                blockNumber\\n                timestamp\\n                #rates {\\n                #  rate\\n                #  duration\\n                #  maturityBlock\\n                #  side\\n                #  type\\n                #}\\n                totalValueLockedUSD\\n                totalBorrowBalanceUSD\\n                totalDepositBalanceUSD\\n                \\n                dailyTotalRevenueUSD\\n                dailySupplySideRevenueUSD\\n                dailyProtocolSideRevenueUSD\\n\\n                rewardTokenEmissionsAmount\\n                rewardTokenEmissionsUSD\\n                \\n                exchangeRate\\n                \\n                dailyRepayUSD\\n                dailyBorrowUSD\\n                dailyDepositUSD\\n                dailyWithdrawUSD\\n                dailyLiquidateUSD\\n                \\n                inputTokenBalance\\n                inputTokenPriceUSD\\n                \\n                outputTokenSupply\\n                outputTokenPriceUSD\\n              }\\n            }\\n        ', 'variables': {'first': 1000, 'start': 0, 'end': 1659951209}}\n",
      "Empty DataFrame\n",
      "Columns: []\n",
      "Index: []\n"
     ]
    },
    {
     "ename": "KeyError",
     "evalue": "'timestamp'",
     "output_type": "error",
     "traceback": [
      "\u001b[0;31m---------------------------------------------------------------------------\u001b[0m",
      "\u001b[0;31mKeyError\u001b[0m                                  Traceback (most recent call last)",
      "File \u001b[0;32m~/opt/anaconda3/lib/python3.9/site-packages/pandas/core/indexes/base.py:3621\u001b[0m, in \u001b[0;36mIndex.get_loc\u001b[0;34m(self, key, method, tolerance)\u001b[0m\n\u001b[1;32m   3620\u001b[0m \u001b[38;5;28;01mtry\u001b[39;00m:\n\u001b[0;32m-> 3621\u001b[0m     \u001b[38;5;28;01mreturn\u001b[39;00m \u001b[38;5;28;43mself\u001b[39;49m\u001b[38;5;241;43m.\u001b[39;49m\u001b[43m_engine\u001b[49m\u001b[38;5;241;43m.\u001b[39;49m\u001b[43mget_loc\u001b[49m\u001b[43m(\u001b[49m\u001b[43mcasted_key\u001b[49m\u001b[43m)\u001b[49m\n\u001b[1;32m   3622\u001b[0m \u001b[38;5;28;01mexcept\u001b[39;00m \u001b[38;5;167;01mKeyError\u001b[39;00m \u001b[38;5;28;01mas\u001b[39;00m err:\n",
      "File \u001b[0;32m~/opt/anaconda3/lib/python3.9/site-packages/pandas/_libs/index.pyx:136\u001b[0m, in \u001b[0;36mpandas._libs.index.IndexEngine.get_loc\u001b[0;34m()\u001b[0m\n",
      "File \u001b[0;32m~/opt/anaconda3/lib/python3.9/site-packages/pandas/_libs/index.pyx:163\u001b[0m, in \u001b[0;36mpandas._libs.index.IndexEngine.get_loc\u001b[0;34m()\u001b[0m\n",
      "File \u001b[0;32mpandas/_libs/hashtable_class_helper.pxi:5198\u001b[0m, in \u001b[0;36mpandas._libs.hashtable.PyObjectHashTable.get_item\u001b[0;34m()\u001b[0m\n",
      "File \u001b[0;32mpandas/_libs/hashtable_class_helper.pxi:5206\u001b[0m, in \u001b[0;36mpandas._libs.hashtable.PyObjectHashTable.get_item\u001b[0;34m()\u001b[0m\n",
      "\u001b[0;31mKeyError\u001b[0m: 'timestamp'",
      "\nThe above exception was the direct cause of the following exception:\n",
      "\u001b[0;31mKeyError\u001b[0m                                  Traceback (most recent call last)",
      "Input \u001b[0;32mIn [1]\u001b[0m, in \u001b[0;36m<cell line: 23>\u001b[0;34m()\u001b[0m\n\u001b[1;32m     25\u001b[0m url \u001b[38;5;241m=\u001b[39m \u001b[38;5;124m'\u001b[39m\u001b[38;5;124mhttps://api.thegraph.com/subgraphs/name/messari/\u001b[39m\u001b[38;5;124m'\u001b[39m \u001b[38;5;241m+\u001b[39m instance[\u001b[38;5;124m'\u001b[39m\u001b[38;5;124murl_plug\u001b[39m\u001b[38;5;124m'\u001b[39m]\n\u001b[1;32m     27\u001b[0m lending \u001b[38;5;241m=\u001b[39m Lending(url)\n\u001b[0;32m---> 28\u001b[0m \u001b[38;5;28;01mawait\u001b[39;00m lending\u001b[38;5;241m.\u001b[39mget_snapshots()\n\u001b[1;32m     29\u001b[0m \u001b[38;5;66;03m#asyncio.run(lending.get_snapshots())\u001b[39;00m\n\u001b[1;32m     30\u001b[0m \n\u001b[1;32m     31\u001b[0m \u001b[38;5;66;03m# -- add version and chain data to df \u001b[39;00m\n\u001b[1;32m     32\u001b[0m lending\u001b[38;5;241m.\u001b[39mfinancial_snapshots[\u001b[38;5;124m'\u001b[39m\u001b[38;5;124mversion\u001b[39m\u001b[38;5;124m'\u001b[39m] \u001b[38;5;241m=\u001b[39m instance[\u001b[38;5;124m'\u001b[39m\u001b[38;5;124mversion\u001b[39m\u001b[38;5;124m'\u001b[39m]\n",
      "File \u001b[0;32m~/Desktop/Messari/Stable_Data/Lending_Data/messygraphs/lending.py:381\u001b[0m, in \u001b[0;36mLending.get_snapshots\u001b[0;34m(self, start_timestamp, end_timestamp, first, refresh)\u001b[0m\n\u001b[1;32m    372\u001b[0m \u001b[38;5;28;01masync\u001b[39;00m \u001b[38;5;28;01mdef\u001b[39;00m \u001b[38;5;21mget_snapshots\u001b[39m(\n\u001b[1;32m    373\u001b[0m     \u001b[38;5;28mself\u001b[39m,\n\u001b[1;32m    374\u001b[0m     start_timestamp: \u001b[38;5;28mint\u001b[39m \u001b[38;5;241m=\u001b[39m \u001b[38;5;241m0\u001b[39m,\n\u001b[0;32m   (...)\u001b[0m\n\u001b[1;32m    378\u001b[0m ) \u001b[38;5;241m-\u001b[39m\u001b[38;5;241m>\u001b[39m pd\u001b[38;5;241m.\u001b[39mDataFrame:\n\u001b[1;32m    379\u001b[0m     \u001b[38;5;66;03m# TODO: check if empties\u001b[39;00m\n\u001b[1;32m    380\u001b[0m     \u001b[38;5;28;01masync\u001b[39;00m \u001b[38;5;28;01mwith\u001b[39;00m ClientSession() \u001b[38;5;28;01mas\u001b[39;00m session:\n\u001b[0;32m--> 381\u001b[0m         \u001b[38;5;28;01mawait\u001b[39;00m asyncio\u001b[38;5;241m.\u001b[39mgather(\n\u001b[1;32m    382\u001b[0m             \u001b[38;5;241m*\u001b[39m[\n\u001b[1;32m    383\u001b[0m                 \u001b[38;5;28mself\u001b[39m\u001b[38;5;241m.\u001b[39mget_financial_snapshots(session),\n\u001b[1;32m    384\u001b[0m                 \u001b[38;5;28mself\u001b[39m\u001b[38;5;241m.\u001b[39mget_usage_snapshots(session),\n\u001b[1;32m    385\u001b[0m                 \u001b[38;5;28mself\u001b[39m\u001b[38;5;241m.\u001b[39mget_market_snapshots(session),\n\u001b[1;32m    386\u001b[0m             ]\n\u001b[1;32m    387\u001b[0m         )\n\u001b[1;32m    388\u001b[0m     \u001b[38;5;28;01mreturn\u001b[39;00m\n",
      "File \u001b[0;32m~/Desktop/Messari/Stable_Data/Lending_Data/messygraphs/lending.py:358\u001b[0m, in \u001b[0;36mLending.get_financial_snapshots\u001b[0;34m(self, session, start_timestamp, end_timestamp, first, refresh)\u001b[0m\n\u001b[1;32m    350\u001b[0m df \u001b[38;5;241m=\u001b[39m \u001b[38;5;28;01mawait\u001b[39;00m \u001b[38;5;28mself\u001b[39m\u001b[38;5;241m.\u001b[39mloop_timestamp_query(query, session)\n\u001b[1;32m    352\u001b[0m \u001b[38;5;66;03m#df[\"network\"] = df[\"protocol\"].apply(\u001b[39;00m\n\u001b[1;32m    353\u001b[0m \u001b[38;5;66;03m#    lambda x: x[\"network\"]\u001b[39;00m\n\u001b[1;32m    354\u001b[0m \u001b[38;5;66;03m#)  # NOTE: must go before protocol\u001b[39;00m\n\u001b[1;32m    355\u001b[0m \u001b[38;5;66;03m#df[\"protocol\"] = df[\"protocol\"].apply(lambda x: x.get(\"name\"))\u001b[39;00m\n\u001b[1;32m    356\u001b[0m \n\u001b[1;32m    357\u001b[0m \u001b[38;5;66;03m# Pulling out date\u001b[39;00m\n\u001b[0;32m--> 358\u001b[0m df[\u001b[38;5;124m\"\u001b[39m\u001b[38;5;124mdate\u001b[39m\u001b[38;5;124m\"\u001b[39m] \u001b[38;5;241m=\u001b[39m \u001b[43mdf\u001b[49m\u001b[43m[\u001b[49m\u001b[38;5;124;43m\"\u001b[39;49m\u001b[38;5;124;43mtimestamp\u001b[39;49m\u001b[38;5;124;43m\"\u001b[39;49m\u001b[43m]\u001b[49m\u001b[38;5;241m.\u001b[39mapply(\u001b[38;5;28;01mlambda\u001b[39;00m x: pd\u001b[38;5;241m.\u001b[39mto_datetime(x, unit\u001b[38;5;241m=\u001b[39m\u001b[38;5;124m\"\u001b[39m\u001b[38;5;124ms\u001b[39m\u001b[38;5;124m\"\u001b[39m)\u001b[38;5;241m.\u001b[39mdate())\n\u001b[1;32m    360\u001b[0m \u001b[38;5;66;03m# NOTE: just here for csv, not for long run\u001b[39;00m\n\u001b[1;32m    361\u001b[0m \u001b[38;5;28;01mif\u001b[39;00m \u001b[38;5;28misinstance\u001b[39m(df[\u001b[38;5;124m\"\u001b[39m\u001b[38;5;124mmintedTokenSupplies\u001b[39m\u001b[38;5;124m\"\u001b[39m][\u001b[38;5;241m0\u001b[39m], \u001b[38;5;28mlist\u001b[39m):  \n",
      "File \u001b[0;32m~/opt/anaconda3/lib/python3.9/site-packages/pandas/core/frame.py:3505\u001b[0m, in \u001b[0;36mDataFrame.__getitem__\u001b[0;34m(self, key)\u001b[0m\n\u001b[1;32m   3503\u001b[0m \u001b[38;5;28;01mif\u001b[39;00m \u001b[38;5;28mself\u001b[39m\u001b[38;5;241m.\u001b[39mcolumns\u001b[38;5;241m.\u001b[39mnlevels \u001b[38;5;241m>\u001b[39m \u001b[38;5;241m1\u001b[39m:\n\u001b[1;32m   3504\u001b[0m     \u001b[38;5;28;01mreturn\u001b[39;00m \u001b[38;5;28mself\u001b[39m\u001b[38;5;241m.\u001b[39m_getitem_multilevel(key)\n\u001b[0;32m-> 3505\u001b[0m indexer \u001b[38;5;241m=\u001b[39m \u001b[38;5;28;43mself\u001b[39;49m\u001b[38;5;241;43m.\u001b[39;49m\u001b[43mcolumns\u001b[49m\u001b[38;5;241;43m.\u001b[39;49m\u001b[43mget_loc\u001b[49m\u001b[43m(\u001b[49m\u001b[43mkey\u001b[49m\u001b[43m)\u001b[49m\n\u001b[1;32m   3506\u001b[0m \u001b[38;5;28;01mif\u001b[39;00m is_integer(indexer):\n\u001b[1;32m   3507\u001b[0m     indexer \u001b[38;5;241m=\u001b[39m [indexer]\n",
      "File \u001b[0;32m~/opt/anaconda3/lib/python3.9/site-packages/pandas/core/indexes/base.py:3623\u001b[0m, in \u001b[0;36mIndex.get_loc\u001b[0;34m(self, key, method, tolerance)\u001b[0m\n\u001b[1;32m   3621\u001b[0m     \u001b[38;5;28;01mreturn\u001b[39;00m \u001b[38;5;28mself\u001b[39m\u001b[38;5;241m.\u001b[39m_engine\u001b[38;5;241m.\u001b[39mget_loc(casted_key)\n\u001b[1;32m   3622\u001b[0m \u001b[38;5;28;01mexcept\u001b[39;00m \u001b[38;5;167;01mKeyError\u001b[39;00m \u001b[38;5;28;01mas\u001b[39;00m err:\n\u001b[0;32m-> 3623\u001b[0m     \u001b[38;5;28;01mraise\u001b[39;00m \u001b[38;5;167;01mKeyError\u001b[39;00m(key) \u001b[38;5;28;01mfrom\u001b[39;00m \u001b[38;5;21;01merr\u001b[39;00m\n\u001b[1;32m   3624\u001b[0m \u001b[38;5;28;01mexcept\u001b[39;00m \u001b[38;5;167;01mTypeError\u001b[39;00m:\n\u001b[1;32m   3625\u001b[0m     \u001b[38;5;66;03m# If we have a listlike key, _check_indexing_error will raise\u001b[39;00m\n\u001b[1;32m   3626\u001b[0m     \u001b[38;5;66;03m#  InvalidIndexError. Otherwise we fall through and re-raise\u001b[39;00m\n\u001b[1;32m   3627\u001b[0m     \u001b[38;5;66;03m#  the TypeError.\u001b[39;00m\n\u001b[1;32m   3628\u001b[0m     \u001b[38;5;28mself\u001b[39m\u001b[38;5;241m.\u001b[39m_check_indexing_error(key)\n",
      "\u001b[0;31mKeyError\u001b[0m: 'timestamp'"
     ]
    }
   ],
   "source": [
    "# -- Get data from subgraphs \n",
    "# == NOTE - this is failing inside of juypter and i dont wanna figure it out - so i'm loading csvs below this to fake it. (csv files gen with same code in a .py file)\n",
    "\n",
    "import asyncio\n",
    "\n",
    "import pandas as pd \n",
    "\n",
    "# -- note you'll have install this \n",
    "from messygraphs import Lending\n",
    "from messygraphs.helpers import (\n",
    "    get_deployments\n",
    ")\n",
    "\n",
    "# -- define instances \n",
    "instances = {'balancer_v2_ethereum': {'chain': 'Ethereum', 'version': 'V2', 'protocol': 'Balancer', 'url_plug': 'balancer-v2-ethereum'}, 'bancor_v3_ethereum': {'chain': 'Ethereum', 'version': 'V3', 'protocol': 'Bancor', 'url_plug': 'bancor-v3-ethereum'}, 'platypus_finance_avalanche': {'chain': 'Avalanche', 'version': 'V1', 'protocol': 'Platypus', 'url_plug': 'platypus-finance-avalanche'}, 'curve_finance_ethereum': {'chain': 'Ethereum', 'version': 'V1', 'protocol': 'Curve', 'url_plug': 'curve-finance-ethereum'}, 'saddle_finance_ethereum': {'chain': 'Ethereum', 'version': 'V1', 'protocol': 'Saddle', 'url_plug': 'saddle-finance-ethereum'}, 'sushiswap_avalanche': {'chain': 'Avalanche', 'version': 'V1', 'protocol': 'Sushiswap', 'url_plug': 'sushiswap-avalanche'}, 'sushiswap_ethereum': {'chain': 'Ethereum', 'version': 'V1', 'protocol': 'Sushiswap', 'url_plug': 'sushiswap-ethereum'}, 'uniswap_v3_polygon': {'chain': 'Polygon', 'version': 'V3', 'protocol': 'Uniswap', 'url_plug': 'uniswap-v3-polygon'}}\n",
    "\n",
    "# -- loop over instances and concatenate dfs \n",
    "\n",
    "financial_dfs = []\n",
    "markets_dfs = []\n",
    "user_dfs = []\n",
    "\n",
    "for name, instance in instances.items(): \n",
    "    try:\n",
    "      url = 'https://api.thegraph.com/subgraphs/name/messari/' + instance['url_plug']\n",
    "\n",
    "      lending = Lending(url)\n",
    "      await lending.get_snapshots()\n",
    "      #asyncio.run(lending.get_snapshots())\n",
    "\n",
    "      # -- add version and chain data to df \n",
    "      lending.financial_snapshots['version'] = instance['version']\n",
    "      lending.financial_snapshots['chain'] = instance['chain']\n",
    "\n",
    "      lending.market_snapshots['version'] = instance['version']\n",
    "      lending.market_snapshots['chain'] = instance['chain']\n",
    "\n",
    "      lending.financial_snapshots['instance'] = name\n",
    "      lending.market_snapshots['instance'] = name\n",
    "\n",
    "      # -- add protocol [TODO]\n",
    "      lending.financial_snapshots['protocol'] = instance['protocol']\n",
    "      lending.market_snapshots['protocol'] = instance['protocol']\n",
    "\n",
    "\n",
    "      # -- append dfs \n",
    "      financial_dfs.append(lending.financial_snapshots)\n",
    "      markets_dfs.append(lending.market_snapshots)\n",
    "    except:\n",
    "        print(\"Error\")\n",
    "\n",
    "\n",
    "\n",
    "# -- concatenate dfs \n",
    "financial_df = pd.concat(financial_dfs , ignore_index=False)\n",
    "market_df = pd.concat(markets_dfs , ignore_index=True)\n",
    "\n",
    "# -- make sure in date format \n",
    "financial_df['date'] = pd.to_datetime(financial_df['date'])\n",
    "market_df['date'] = pd.to_datetime(market_df['date'])\n",
    "\n",
    "# -- add quarter columns \n",
    "financial_df['quarter'] = financial_df['date'].dt.to_period('Q')\n",
    "market_df['quarter'] = market_df['date'].dt.to_period('Q')\n",
    "\n",
    "# -- add return on assets column \n",
    "#financial_df['roa'] = financial_df.apply(lambda x: financial_df[financial_df.quarter == x.quarter]['dailyTotalRevenueUSD'].sum() / financial_df[financial_df.quarter == x.quarter]['totalDepositBalanceUSD'].mean(), axis=1)\n"
   ]
  },
  {
   "cell_type": "code",
   "execution_count": 24,
   "metadata": {
    "pycharm": {
     "name": "#%%\n"
    }
   },
   "outputs": [],
   "source": [
    "financial_df = pd.concat(financial_dfs , ignore_index=True)\n",
    "market_df = pd.concat(markets_dfs , ignore_index=True)"
   ]
  },
  {
   "cell_type": "code",
   "execution_count": 34,
   "metadata": {
    "pycharm": {
     "name": "#%%\n"
    }
   },
   "outputs": [],
   "source": [
    "financial_df.to_csv(r'financial_df.csv', index=False)\n",
    "market_df.to_csv(r'market_df.csv', index=False)"
   ]
  },
  {
   "cell_type": "code",
   "execution_count": 25,
   "metadata": {},
   "outputs": [
    {
     "data": {
      "text/html": [
       "<div>\n",
       "<style scoped>\n",
       "    .dataframe tbody tr th:only-of-type {\n",
       "        vertical-align: middle;\n",
       "    }\n",
       "\n",
       "    .dataframe tbody tr th {\n",
       "        vertical-align: top;\n",
       "    }\n",
       "\n",
       "    .dataframe thead th {\n",
       "        text-align: right;\n",
       "    }\n",
       "</style>\n",
       "<table border=\"1\" class=\"dataframe\">\n",
       "  <thead>\n",
       "    <tr style=\"text-align: right;\">\n",
       "      <th></th>\n",
       "      <th>id</th>\n",
       "      <th>blockNumber</th>\n",
       "      <th>timestamp</th>\n",
       "      <th>totalValueLockedUSD</th>\n",
       "      <th>protocolControlledValueUSD</th>\n",
       "      <th>mintedTokenSupplies</th>\n",
       "      <th>dailySupplySideRevenueUSD</th>\n",
       "      <th>dailyProtocolSideRevenueUSD</th>\n",
       "      <th>dailyTotalRevenueUSD</th>\n",
       "      <th>totalDepositBalanceUSD</th>\n",
       "      <th>...</th>\n",
       "      <th>dailyDepositUSD</th>\n",
       "      <th>dailyBorrowUSD</th>\n",
       "      <th>dailyLiquidateUSD</th>\n",
       "      <th>dailyWithdrawUSD</th>\n",
       "      <th>dailyRepayUSD</th>\n",
       "      <th>date</th>\n",
       "      <th>version</th>\n",
       "      <th>chain</th>\n",
       "      <th>instance</th>\n",
       "      <th>protocol</th>\n",
       "    </tr>\n",
       "  </thead>\n",
       "  <tbody>\n",
       "    <tr>\n",
       "      <th>0</th>\n",
       "      <td>18596</td>\n",
       "      <td>11363059</td>\n",
       "      <td>1606778006</td>\n",
       "      <td>0.1211387038158691701998788612961841</td>\n",
       "      <td>None</td>\n",
       "      <td>None</td>\n",
       "      <td>0.05451241671714112658994548758328286</td>\n",
       "      <td>0.006056935190793458509993943064809207</td>\n",
       "      <td>0.06056935190793458509993943064809207</td>\n",
       "      <td>0.1211387038158691701998788612961841</td>\n",
       "      <td>...</td>\n",
       "      <td>0.1211387038158691701998788612961841</td>\n",
       "      <td>0</td>\n",
       "      <td>0</td>\n",
       "      <td>0</td>\n",
       "      <td>0</td>\n",
       "      <td>2020-11-30</td>\n",
       "      <td>V2</td>\n",
       "      <td>Ethereum</td>\n",
       "      <td>aave_v2_ethereum</td>\n",
       "      <td>Aave</td>\n",
       "    </tr>\n",
       "    <tr>\n",
       "      <th>1</th>\n",
       "      <td>18597</td>\n",
       "      <td>11367851</td>\n",
       "      <td>1606841582</td>\n",
       "      <td>11.89956337898119954833154442456768</td>\n",
       "      <td>None</td>\n",
       "      <td>None</td>\n",
       "      <td>10.77612865202748493346936466788912</td>\n",
       "      <td>0</td>\n",
       "      <td>10.77612865202748493346936466788912</td>\n",
       "      <td>11.89956337898119954833154442456768</td>\n",
       "      <td>...</td>\n",
       "      <td>13.98942240471583788545104345752622</td>\n",
       "      <td>1.004174120453190220632081097197376</td>\n",
       "      <td>0</td>\n",
       "      <td>1.004174120453190220632081097197376</td>\n",
       "      <td>0</td>\n",
       "      <td>2020-12-01</td>\n",
       "      <td>V2</td>\n",
       "      <td>Ethereum</td>\n",
       "      <td>aave_v2_ethereum</td>\n",
       "      <td>Aave</td>\n",
       "    </tr>\n",
       "    <tr>\n",
       "      <th>2</th>\n",
       "      <td>18598</td>\n",
       "      <td>11376123</td>\n",
       "      <td>1606951899</td>\n",
       "      <td>11676.27657935618010547637512452716</td>\n",
       "      <td>None</td>\n",
       "      <td>None</td>\n",
       "      <td>880.2063429159296173050629493346312</td>\n",
       "      <td>110.5205408935371071911232205082187</td>\n",
       "      <td>990.7268838094667244961861698428498</td>\n",
       "      <td>11676.27657935618010547637512452716</td>\n",
       "      <td>...</td>\n",
       "      <td>12164.47320065284094001171286974372</td>\n",
       "      <td>361.7115243675556397439080951096217</td>\n",
       "      <td>0</td>\n",
       "      <td>48.68826572864025712144497975443895</td>\n",
       "      <td>65.72274404543722261312325415125642</td>\n",
       "      <td>2020-12-02</td>\n",
       "      <td>V2</td>\n",
       "      <td>Ethereum</td>\n",
       "      <td>aave_v2_ethereum</td>\n",
       "      <td>Aave</td>\n",
       "    </tr>\n",
       "    <tr>\n",
       "      <th>3</th>\n",
       "      <td>18599</td>\n",
       "      <td>11382777</td>\n",
       "      <td>1607039855</td>\n",
       "      <td>3713348.456118013793108654167660837</td>\n",
       "      <td>None</td>\n",
       "      <td>None</td>\n",
       "      <td>40.82765966298191935452881204993263</td>\n",
       "      <td>1.018814497008675253451569597235327</td>\n",
       "      <td>41.84647415999059460798038164716793</td>\n",
       "      <td>3713348.456118013793108654167660837</td>\n",
       "      <td>...</td>\n",
       "      <td>86841630.41529222846634195307888652</td>\n",
       "      <td>750403.1762786188118179857001126671</td>\n",
       "      <td>0</td>\n",
       "      <td>83007827.75520390651328439305115739</td>\n",
       "      <td>5172.761851802688752664776635569197</td>\n",
       "      <td>2020-12-03</td>\n",
       "      <td>V2</td>\n",
       "      <td>Ethereum</td>\n",
       "      <td>aave_v2_ethereum</td>\n",
       "      <td>Aave</td>\n",
       "    </tr>\n",
       "    <tr>\n",
       "      <th>4</th>\n",
       "      <td>18600</td>\n",
       "      <td>11389219</td>\n",
       "      <td>1607126126</td>\n",
       "      <td>15831169.53642713866139562788213131</td>\n",
       "      <td>None</td>\n",
       "      <td>None</td>\n",
       "      <td>170.2327583772646158572435789565403</td>\n",
       "      <td>6.562654354716201075346095664898737</td>\n",
       "      <td>176.7954127319808169325896746214391</td>\n",
       "      <td>15831169.53642713866139562788213131</td>\n",
       "      <td>...</td>\n",
       "      <td>279411101.7824755403360026639423748</td>\n",
       "      <td>915398.0916825224330769375751827159</td>\n",
       "      <td>0</td>\n",
       "      <td>264142568.0200120471122228867754785</td>\n",
       "      <td>2956.253622896821381770609494507823</td>\n",
       "      <td>2020-12-04</td>\n",
       "      <td>V2</td>\n",
       "      <td>Ethereum</td>\n",
       "      <td>aave_v2_ethereum</td>\n",
       "      <td>Aave</td>\n",
       "    </tr>\n",
       "    <tr>\n",
       "      <th>...</th>\n",
       "      <td>...</td>\n",
       "      <td>...</td>\n",
       "      <td>...</td>\n",
       "      <td>...</td>\n",
       "      <td>...</td>\n",
       "      <td>...</td>\n",
       "      <td>...</td>\n",
       "      <td>...</td>\n",
       "      <td>...</td>\n",
       "      <td>...</td>\n",
       "      <td>...</td>\n",
       "      <td>...</td>\n",
       "      <td>...</td>\n",
       "      <td>...</td>\n",
       "      <td>...</td>\n",
       "      <td>...</td>\n",
       "      <td>...</td>\n",
       "      <td>...</td>\n",
       "      <td>...</td>\n",
       "      <td>...</td>\n",
       "      <td>...</td>\n",
       "    </tr>\n",
       "    <tr>\n",
       "      <th>2228</th>\n",
       "      <td>19205</td>\n",
       "      <td>18096208</td>\n",
       "      <td>1659397999</td>\n",
       "      <td>35409123.68157815008750423358400622</td>\n",
       "      <td>None</td>\n",
       "      <td>None</td>\n",
       "      <td>2045.075658707609254927715633442</td>\n",
       "      <td>578.208139585122029027655260928</td>\n",
       "      <td>2623.28379829273128395537089437</td>\n",
       "      <td>35409123.68157815008750423358400622</td>\n",
       "      <td>...</td>\n",
       "      <td>375148.93874286598496676560433805</td>\n",
       "      <td>167460.4242313907545</td>\n",
       "      <td>0</td>\n",
       "      <td>109596.57428527391532070061416311</td>\n",
       "      <td>92648.39131224215972863399865724</td>\n",
       "      <td>2022-08-01</td>\n",
       "      <td>V1</td>\n",
       "      <td>Avalanche</td>\n",
       "      <td>banker_joe_avalanche</td>\n",
       "      <td>Banker Joe</td>\n",
       "    </tr>\n",
       "    <tr>\n",
       "      <th>2229</th>\n",
       "      <td>19206</td>\n",
       "      <td>18138595</td>\n",
       "      <td>1659484653</td>\n",
       "      <td>35141430.41586906195041759005513788</td>\n",
       "      <td>None</td>\n",
       "      <td>None</td>\n",
       "      <td>1963.117699247453760502399079007</td>\n",
       "      <td>537.707490333711392432884733703</td>\n",
       "      <td>2500.82518958116515293528381271</td>\n",
       "      <td>35141430.41586906195041759005513788</td>\n",
       "      <td>...</td>\n",
       "      <td>782570.76682019566040386011540096</td>\n",
       "      <td>265376.78112571460891</td>\n",
       "      <td>2869.528903855860743742653152016935</td>\n",
       "      <td>849520.11626678266263161759802192</td>\n",
       "      <td>186958.86697946157322056586324807</td>\n",
       "      <td>2022-08-02</td>\n",
       "      <td>V1</td>\n",
       "      <td>Avalanche</td>\n",
       "      <td>banker_joe_avalanche</td>\n",
       "      <td>Banker Joe</td>\n",
       "    </tr>\n",
       "    <tr>\n",
       "      <th>2230</th>\n",
       "      <td>19207</td>\n",
       "      <td>18180138</td>\n",
       "      <td>1659568324</td>\n",
       "      <td>35352093.43747149760269029779894514</td>\n",
       "      <td>None</td>\n",
       "      <td>None</td>\n",
       "      <td>1547.091854221552541767506531065</td>\n",
       "      <td>411.035805105287175133436860795</td>\n",
       "      <td>1958.12765932683971690094339186</td>\n",
       "      <td>35352093.43747149760269029779894514</td>\n",
       "      <td>...</td>\n",
       "      <td>643695.94684155832488028884584236</td>\n",
       "      <td>181956.05848770711813324252014608</td>\n",
       "      <td>87.55291831248984543821510320448113</td>\n",
       "      <td>518515.52152381205741242722274294</td>\n",
       "      <td>194920.20899227103146460894773188</td>\n",
       "      <td>2022-08-03</td>\n",
       "      <td>V1</td>\n",
       "      <td>Avalanche</td>\n",
       "      <td>banker_joe_avalanche</td>\n",
       "      <td>Banker Joe</td>\n",
       "    </tr>\n",
       "    <tr>\n",
       "      <th>2231</th>\n",
       "      <td>19208</td>\n",
       "      <td>18224475</td>\n",
       "      <td>1659657519</td>\n",
       "      <td>35136788.90479844549258214229977578</td>\n",
       "      <td>None</td>\n",
       "      <td>None</td>\n",
       "      <td>2441.4072361832197339091470687365</td>\n",
       "      <td>712.3472865211678429931661185535</td>\n",
       "      <td>3153.75452270438757690231318729</td>\n",
       "      <td>35136788.90479844549258214229977578</td>\n",
       "      <td>...</td>\n",
       "      <td>885072.40810757846979574500930748</td>\n",
       "      <td>854437.55713807330713450087596143</td>\n",
       "      <td>0</td>\n",
       "      <td>671722.84171381473193691204534768</td>\n",
       "      <td>258101.01590157259504878686045797</td>\n",
       "      <td>2022-08-04</td>\n",
       "      <td>V1</td>\n",
       "      <td>Avalanche</td>\n",
       "      <td>banker_joe_avalanche</td>\n",
       "      <td>Banker Joe</td>\n",
       "    </tr>\n",
       "    <tr>\n",
       "      <th>2232</th>\n",
       "      <td>19209</td>\n",
       "      <td>18236499</td>\n",
       "      <td>1659681837</td>\n",
       "      <td>35693896.60335237494917207804592308</td>\n",
       "      <td>None</td>\n",
       "      <td>None</td>\n",
       "      <td>431.15445980778594978250232361</td>\n",
       "      <td>117.65861821229904807319734827</td>\n",
       "      <td>548.81307802008499785569967188</td>\n",
       "      <td>35693896.60335237494917207804592308</td>\n",
       "      <td>...</td>\n",
       "      <td>12661.45991900380402060005736981</td>\n",
       "      <td>3327.1865890659</td>\n",
       "      <td>0</td>\n",
       "      <td>30342.69804966146029087846228366</td>\n",
       "      <td>423.59477092268305651801452838</td>\n",
       "      <td>2022-08-05</td>\n",
       "      <td>V1</td>\n",
       "      <td>Avalanche</td>\n",
       "      <td>banker_joe_avalanche</td>\n",
       "      <td>Banker Joe</td>\n",
       "    </tr>\n",
       "  </tbody>\n",
       "</table>\n",
       "<p>2233 rows × 21 columns</p>\n",
       "</div>"
      ],
      "text/plain": [
       "         id blockNumber   timestamp                   totalValueLockedUSD  \\\n",
       "0     18596    11363059  1606778006  0.1211387038158691701998788612961841   \n",
       "1     18597    11367851  1606841582   11.89956337898119954833154442456768   \n",
       "2     18598    11376123  1606951899   11676.27657935618010547637512452716   \n",
       "3     18599    11382777  1607039855   3713348.456118013793108654167660837   \n",
       "4     18600    11389219  1607126126   15831169.53642713866139562788213131   \n",
       "...     ...         ...         ...                                   ...   \n",
       "2228  19205    18096208  1659397999   35409123.68157815008750423358400622   \n",
       "2229  19206    18138595  1659484653   35141430.41586906195041759005513788   \n",
       "2230  19207    18180138  1659568324   35352093.43747149760269029779894514   \n",
       "2231  19208    18224475  1659657519   35136788.90479844549258214229977578   \n",
       "2232  19209    18236499  1659681837   35693896.60335237494917207804592308   \n",
       "\n",
       "     protocolControlledValueUSD mintedTokenSupplies  \\\n",
       "0                          None                None   \n",
       "1                          None                None   \n",
       "2                          None                None   \n",
       "3                          None                None   \n",
       "4                          None                None   \n",
       "...                         ...                 ...   \n",
       "2228                       None                None   \n",
       "2229                       None                None   \n",
       "2230                       None                None   \n",
       "2231                       None                None   \n",
       "2232                       None                None   \n",
       "\n",
       "                  dailySupplySideRevenueUSD  \\\n",
       "0     0.05451241671714112658994548758328286   \n",
       "1       10.77612865202748493346936466788912   \n",
       "2       880.2063429159296173050629493346312   \n",
       "3       40.82765966298191935452881204993263   \n",
       "4       170.2327583772646158572435789565403   \n",
       "...                                     ...   \n",
       "2228       2045.075658707609254927715633442   \n",
       "2229       1963.117699247453760502399079007   \n",
       "2230       1547.091854221552541767506531065   \n",
       "2231      2441.4072361832197339091470687365   \n",
       "2232         431.15445980778594978250232361   \n",
       "\n",
       "                 dailyProtocolSideRevenueUSD  \\\n",
       "0     0.006056935190793458509993943064809207   \n",
       "1                                          0   \n",
       "2        110.5205408935371071911232205082187   \n",
       "3        1.018814497008675253451569597235327   \n",
       "4        6.562654354716201075346095664898737   \n",
       "...                                      ...   \n",
       "2228         578.208139585122029027655260928   \n",
       "2229         537.707490333711392432884733703   \n",
       "2230         411.035805105287175133436860795   \n",
       "2231        712.3472865211678429931661185535   \n",
       "2232          117.65861821229904807319734827   \n",
       "\n",
       "                       dailyTotalRevenueUSD  \\\n",
       "0     0.06056935190793458509993943064809207   \n",
       "1       10.77612865202748493346936466788912   \n",
       "2       990.7268838094667244961861698428498   \n",
       "3       41.84647415999059460798038164716793   \n",
       "4       176.7954127319808169325896746214391   \n",
       "...                                     ...   \n",
       "2228        2623.28379829273128395537089437   \n",
       "2229        2500.82518958116515293528381271   \n",
       "2230        1958.12765932683971690094339186   \n",
       "2231        3153.75452270438757690231318729   \n",
       "2232         548.81307802008499785569967188   \n",
       "\n",
       "                    totalDepositBalanceUSD  ...  \\\n",
       "0     0.1211387038158691701998788612961841  ...   \n",
       "1      11.89956337898119954833154442456768  ...   \n",
       "2      11676.27657935618010547637512452716  ...   \n",
       "3      3713348.456118013793108654167660837  ...   \n",
       "4      15831169.53642713866139562788213131  ...   \n",
       "...                                    ...  ...   \n",
       "2228   35409123.68157815008750423358400622  ...   \n",
       "2229   35141430.41586906195041759005513788  ...   \n",
       "2230   35352093.43747149760269029779894514  ...   \n",
       "2231   35136788.90479844549258214229977578  ...   \n",
       "2232   35693896.60335237494917207804592308  ...   \n",
       "\n",
       "                           dailyDepositUSD  \\\n",
       "0     0.1211387038158691701998788612961841   \n",
       "1      13.98942240471583788545104345752622   \n",
       "2      12164.47320065284094001171286974372   \n",
       "3      86841630.41529222846634195307888652   \n",
       "4      279411101.7824755403360026639423748   \n",
       "...                                    ...   \n",
       "2228     375148.93874286598496676560433805   \n",
       "2229     782570.76682019566040386011540096   \n",
       "2230     643695.94684155832488028884584236   \n",
       "2231     885072.40810757846979574500930748   \n",
       "2232      12661.45991900380402060005736981   \n",
       "\n",
       "                           dailyBorrowUSD  \\\n",
       "0                                       0   \n",
       "1     1.004174120453190220632081097197376   \n",
       "2     361.7115243675556397439080951096217   \n",
       "3     750403.1762786188118179857001126671   \n",
       "4     915398.0916825224330769375751827159   \n",
       "...                                   ...   \n",
       "2228                 167460.4242313907545   \n",
       "2229                265376.78112571460891   \n",
       "2230    181956.05848770711813324252014608   \n",
       "2231    854437.55713807330713450087596143   \n",
       "2232                      3327.1865890659   \n",
       "\n",
       "                        dailyLiquidateUSD  \\\n",
       "0                                       0   \n",
       "1                                       0   \n",
       "2                                       0   \n",
       "3                                       0   \n",
       "4                                       0   \n",
       "...                                   ...   \n",
       "2228                                    0   \n",
       "2229  2869.528903855860743742653152016935   \n",
       "2230  87.55291831248984543821510320448113   \n",
       "2231                                    0   \n",
       "2232                                    0   \n",
       "\n",
       "                         dailyWithdrawUSD  \\\n",
       "0                                       0   \n",
       "1     1.004174120453190220632081097197376   \n",
       "2     48.68826572864025712144497975443895   \n",
       "3     83007827.75520390651328439305115739   \n",
       "4     264142568.0200120471122228867754785   \n",
       "...                                   ...   \n",
       "2228    109596.57428527391532070061416311   \n",
       "2229    849520.11626678266263161759802192   \n",
       "2230    518515.52152381205741242722274294   \n",
       "2231    671722.84171381473193691204534768   \n",
       "2232     30342.69804966146029087846228366   \n",
       "\n",
       "                            dailyRepayUSD        date version      chain  \\\n",
       "0                                       0  2020-11-30      V2   Ethereum   \n",
       "1                                       0  2020-12-01      V2   Ethereum   \n",
       "2     65.72274404543722261312325415125642  2020-12-02      V2   Ethereum   \n",
       "3     5172.761851802688752664776635569197  2020-12-03      V2   Ethereum   \n",
       "4     2956.253622896821381770609494507823  2020-12-04      V2   Ethereum   \n",
       "...                                   ...         ...     ...        ...   \n",
       "2228     92648.39131224215972863399865724  2022-08-01      V1  Avalanche   \n",
       "2229    186958.86697946157322056586324807  2022-08-02      V1  Avalanche   \n",
       "2230    194920.20899227103146460894773188  2022-08-03      V1  Avalanche   \n",
       "2231    258101.01590157259504878686045797  2022-08-04      V1  Avalanche   \n",
       "2232       423.59477092268305651801452838  2022-08-05      V1  Avalanche   \n",
       "\n",
       "                  instance    protocol  \n",
       "0         aave_v2_ethereum        Aave  \n",
       "1         aave_v2_ethereum        Aave  \n",
       "2         aave_v2_ethereum        Aave  \n",
       "3         aave_v2_ethereum        Aave  \n",
       "4         aave_v2_ethereum        Aave  \n",
       "...                    ...         ...  \n",
       "2228  banker_joe_avalanche  Banker Joe  \n",
       "2229  banker_joe_avalanche  Banker Joe  \n",
       "2230  banker_joe_avalanche  Banker Joe  \n",
       "2231  banker_joe_avalanche  Banker Joe  \n",
       "2232  banker_joe_avalanche  Banker Joe  \n",
       "\n",
       "[2233 rows x 21 columns]"
      ]
     },
     "execution_count": 25,
     "metadata": {},
     "output_type": "execute_result"
    }
   ],
   "source": [
    "financial_df"
   ]
  },
  {
   "cell_type": "markdown",
   "metadata": {
    "pycharm": {
     "name": "#%% md\n"
    }
   },
   "source": [
    "# -- creating a chart: using your own df "
   ]
  },
  {
   "cell_type": "code",
   "execution_count": 15,
   "metadata": {
    "pycharm": {
     "name": "#%%\n"
    }
   },
   "outputs": [
    {
     "ename": "NameError",
     "evalue": "name 'messari_chart' is not defined",
     "output_type": "error",
     "traceback": [
      "\u001b[0;31m---------------------------------------------------------------------------\u001b[0m",
      "\u001b[0;31mNameError\u001b[0m                                 Traceback (most recent call last)",
      "Input \u001b[0;32mIn [15]\u001b[0m, in \u001b[0;36m<cell line: 5>\u001b[0;34m()\u001b[0m\n\u001b[1;32m      2\u001b[0m plot_df \u001b[38;5;241m=\u001b[39m financial_df\u001b[38;5;241m.\u001b[39mgroupby(\u001b[38;5;124m'\u001b[39m\u001b[38;5;124mdate\u001b[39m\u001b[38;5;124m'\u001b[39m)  \u001b[38;5;66;03m# -- put in millions (can make this a auto detect func)\u001b[39;00m\n\u001b[1;32m      4\u001b[0m \u001b[38;5;66;03m# -- create chart object\u001b[39;00m\n\u001b[0;32m----> 5\u001b[0m chart \u001b[38;5;241m=\u001b[39m \u001b[43mmessari_chart\u001b[49m(plot_df, layout\u001b[38;5;241m=\u001b[39m \u001b[38;5;124m'\u001b[39m\u001b[38;5;124mthree_quarter\u001b[39m\u001b[38;5;124m'\u001b[39m)\n\u001b[1;32m      7\u001b[0m \u001b[38;5;66;03m# -- define chart text -- future: treat protocol name as a variable and jsut auto create a lot of this \u001b[39;00m\n\u001b[1;32m      8\u001b[0m chart\u001b[38;5;241m.\u001b[39mname \u001b[38;5;241m=\u001b[39m \u001b[38;5;124m'\u001b[39m\u001b[38;5;124mYule_DailyRevenueByChain_AreaPlot\u001b[39m\u001b[38;5;124m'\u001b[39m\n",
      "\u001b[0;31mNameError\u001b[0m: name 'messari_chart' is not defined"
     ]
    }
   ],
   "source": [
    "# -- create you're own df (can be any data) - usually this is some sorta groupby statement like used here \n",
    "plot_df = financial_df.groupby('date')  # -- put in millions (can make this a auto detect func)\n",
    "\n",
    "# -- create chart object\n",
    "chart = messari_chart(plot_df, layout= 'three_quarter')\n",
    "\n",
    "# -- define chart text -- future: treat protocol name as a variable and jsut auto create a lot of this \n",
    "chart.name = 'Yule_DailyRevenueByChain_AreaPlot'\n",
    "chart.title = 'Aave Daily Revenue by Broken Out by Revenue Split'\n",
    "chart.subtitle = 'Previous 6 month total revenue across Aave deployments on each chain'\n",
    "chart.sources = 'Messari, The Graph, Dune (@messari)'\n",
    "chart.note = 'All Aave versions are included and aggregated by chain where applicable'\n",
    "\n",
    "# -- rename columns so they print pretty \n",
    "chart.df.columns = ['Supply-Side', 'Protocol']\n",
    "\n",
    "# -- define chart axis title \n",
    "chart.axis_label = 'Daily Revenue ($ millions)'\n",
    "chart.axis_format = '${x:,.1f}M' # -- this will format in millions with one decimal place: $1.5M\n",
    "chart.side_legend_decimals = 1\n",
    "\n",
    "chart.date = chart.df.index[-1].strftime('%B %d, %Y')\n",
    "\n",
    "# -- assign dif color set (overrides the default)\n",
    "chart.color_pallet = main_colors\n",
    "\n",
    "# -- create raw python chart \n",
    "chart.plotBasicChart(kind= 'area', legend_calc_days = 90, color_legend_chg= True)\n",
    "\n",
    "# -- export final messari chart \n",
    "chart.createSlide()"
   ]
  },
  {
   "cell_type": "markdown",
   "metadata": {
    "pycharm": {
     "name": "#%% md\n"
    }
   },
   "source": [
    "# -- creating a chart: Quarterly Specific "
   ]
  },
  {
   "cell_type": "markdown",
   "metadata": {
    "pycharm": {
     "name": "#%% md\n"
    }
   },
   "source": [
    "initial idea was we would define a block of code like this for each chart we want to create - I think some more systmizations can happen but its close \n",
    "\n",
    "right now, this takes the full financial_df (straight from subgraph) and plots a column in there (groupby logic and what not abstracted in the class)"
   ]
  },
  {
   "cell_type": "code",
   "execution_count": null,
   "metadata": {
    "pycharm": {
     "name": "#%%\n"
    }
   },
   "outputs": [],
   "source": [
    "# =============================================================================================\n",
    "# -- REVENUE BY CHAIN: plot area timeseries of total revenue by chain\n",
    "# =============================================================================================\n",
    "\n",
    "metric = 'dailyTotalRevenueUSD' # -- define the metric we are plotting. this must match a df column \n",
    "chart_type = 'area'             # -- define the chart type: 'area', 'line', 'bar'\n",
    "group_column = 'chain'          # -- define which column we are grouping. If doing an area chart by chain, this would be the chain column name \n",
    "unit_adj = 1000000              # -- set to millions \n",
    "moving_avg = 7                  # -- 7d moving avg to smooth the plot \n",
    "layout = 'three_quarter'        # -- three_quarter includes a side bar legend w/ values. other options incld ['full_width', 'full_width_bottom', 'three_quarter']\n",
    "\n",
    "# -- define messari chart and text components \n",
    "revenue_area_side = messari_chart(financial_df, layout= layout)\n",
    "\n",
    "revenue_area_side.name = 'DailyRevenueByChain_AreaPlot'\n",
    "revenue_area_side.title = 'Aave Daily Revenue by Chain'\n",
    "revenue_area_side.subtitle = 'Previous 6 month total revenue across Aave deployments on each chain'\n",
    "revenue_area_side.sources = 'Messari, The Graph, Dune (@messari)'\n",
    "revenue_area_side.note = 'All Aave versions are included and aggregated by chain where applicable'\n",
    "\n",
    "revenue_area_side.axis_label = 'Daily Revenue ($ millions)'\n",
    "revenue_area_side.axis_format = '${x:,.1f}M' # -- this will format in millions with one decimal place: $1.5M\n",
    "revenue_area_side.side_legend_decimals = 2\n",
    "\n",
    "revenue_area_side.color_pallet = main_colors # -- test out new color pallet bc i hate the current one (this overrides)\n",
    "\n",
    "# -- auto filter dataframe to last quarter with a minimum of 6 quarters ago (basically wraps some groupby logic)\n",
    "revenue_area_side.filterDataByCatagory( metric= metric, \n",
    "                                        category_column = group_column, # -- group by chain. can group by other columns like version, token, etc provided its a df column \n",
    "                                        unit_adjustment = unit_adj,     # -- adjust the untis of the metric \n",
    "                                        moving_avg = moving_avg,        # -- set a moving avgerage (in days)\n",
    "                                        order_method = 'sum',           # -- 'sum' will order columns + legend by the sum of the metric through the quarter. 'last' will use quarter-end values to sort \n",
    "                                        auto_select_quarter = True)     # -- True will assume data pulled after the quarter and find the previous quarter. If False, need to specify min and max timestamps at object level (or in df filter level)\n",
    "\n",
    "# -- set the date to use in the chart now that the df is filtered (logic block above filters the raw )\n",
    "revenue_area_side.date = revenue_area_side.df.index[-1].strftime('%B %d, %Y')\n",
    "\n",
    "# -- create raw python chart \n",
    "revenue_area_side.plotBasicChart(kind= chart_type, legend_calc_days = 90, color_legend_chg= True)\n",
    "\n",
    "# -- export final messari chart \n",
    "revenue_area_side.createSlide()"
   ]
  },
  {
   "cell_type": "markdown",
   "metadata": {
    "pycharm": {
     "name": "#%% md\n"
    }
   },
   "source": [
    "# -- Creating a Table: Quarterly Specific "
   ]
  },
  {
   "cell_type": "markdown",
   "metadata": {
    "pycharm": {
     "name": "#%% md\n"
    }
   },
   "source": [
    "this is the most complex part - building tables. This works by defining a base chart template background and creating rows \n",
    "\n",
    "each row can use the main df of the object or have a custom df (good for data not in a subgraph) - there's a ton of other settings like spacing, font size, font, etc. see below"
   ]
  },
  {
   "cell_type": "code",
   "execution_count": 11,
   "metadata": {
    "pycharm": {
     "name": "#%%\n"
    }
   },
   "outputs": [
    {
     "ename": "NameError",
     "evalue": "name 'messari_chart' is not defined",
     "output_type": "error",
     "traceback": [
      "\u001b[0;31m---------------------------------------------------------------------------\u001b[0m",
      "\u001b[0;31mNameError\u001b[0m                                 Traceback (most recent call last)",
      "Input \u001b[0;32mIn [11]\u001b[0m, in \u001b[0;36m<cell line: 4>\u001b[0;34m()\u001b[0m\n\u001b[1;32m      1\u001b[0m \u001b[38;5;66;03m# -- create a KPI Table \u001b[39;00m\n\u001b[1;32m      2\u001b[0m layout \u001b[38;5;241m=\u001b[39m \u001b[38;5;124m'\u001b[39m\u001b[38;5;124mquarterly_table\u001b[39m\u001b[38;5;124m'\u001b[39m \u001b[38;5;66;03m# -- this controls the initialization of the chart object to load table settings vs chart settings \u001b[39;00m\n\u001b[0;32m----> 4\u001b[0m table \u001b[38;5;241m=\u001b[39m \u001b[43mmessari_chart\u001b[49m(financial_df, layout\u001b[38;5;241m=\u001b[39mlayout)\n\u001b[1;32m      6\u001b[0m table\u001b[38;5;241m.\u001b[39mname \u001b[38;5;241m=\u001b[39m \u001b[38;5;124m'\u001b[39m\u001b[38;5;124mAaveQuarterly_Kpi_new\u001b[39m\u001b[38;5;124m'\u001b[39m\n\u001b[1;32m      7\u001b[0m table\u001b[38;5;241m.\u001b[39mtitle \u001b[38;5;241m=\u001b[39m \u001b[38;5;124m'\u001b[39m\u001b[38;5;124mAave Quarterly KPIs\u001b[39m\u001b[38;5;124m'\u001b[39m\n",
      "\u001b[0;31mNameError\u001b[0m: name 'messari_chart' is not defined"
     ]
    }
   ],
   "source": [
    "# -- create a KPI Table \n",
    "layout = 'quarterly_table' # -- this controls the initialization of the chart object to load table settings vs chart settings \n",
    "\n",
    "table = messari_chart(financial_df, layout=layout)\n",
    "\n",
    "table.name = 'AaveQuarterly_Kpi_new'\n",
    "table.title = 'Aave Quarterly KPIs'\n",
    "table.subtitle = 'Key Indicators for Aave business operations'\n",
    "table.sources = 'Messari, The Graph, Aave, Dune (@messari)'\n",
    "table.note = 'All Aave versions are included and aggregated by chain where applicable'\n",
    "\n",
    "table.table_config['row_spacing'] = 52\n",
    "\n",
    "table.rows = {\n",
    "  'outstanding_loans':   {'display_name': 'Outstanding Loans','df_column': 'totalBorrowBalanceUSD', 'value_format': \"${:,.1f}\", 'calc_method': 'last'}, \n",
    "  'outstanding_depotis': {'display_name': 'Outstanding Deposits','df_column': 'totalDepositBalanceUSD', 'value_format': \"${:,.1f}\", 'calc_method': 'last'}, \n",
    "  'originations': {'display_name': 'Quarterly Originations','df_column': 'dailyBorrowUSD', 'value_format': \"${:,.1f}\", 'calc_method': 'sum'}, \n",
    "  'new_deposits': {'display_name': 'Quarterly Deposits','df_column': 'dailyDepositUSD', 'value_format': \"${:,.1f}\", 'calc_method': 'sum'}, \n",
    "  'unquie_addrs': {'display_name': 'Unique Addresses', 'df': unique_df, 'df_column': 'user_address', 'value_format': \"{:,.0f}\", 'calc_method': 'sum', 'denomination': 1}, \n",
    "  'roa': {'display_name': 'Return on Assets','df_column': 'roa', 'value_format': \"{0:.1%}\", 'calc_method': 'avg', 'denomination': 1} \n",
    "}\n",
    "\n",
    "table.buildTable(auto_select_quarter = True) # -- auto select quarter basically assumes 1) you want quarterly periods and 2) the df was collected after the quarter you are interested in (i.e. you dont need to filter)\n",
    "table.createSlide()"
   ]
  },
  {
   "cell_type": "code",
   "execution_count": null,
   "metadata": {
    "pycharm": {
     "name": "#%%\n"
    }
   },
   "outputs": [],
   "source": [
    "# -- create income statement (show off some of the formatting stuff not included in the above)\n",
    "# == NOTE this will break - if you want to see it work, ask dustin for the input df code for grants and inititives \n",
    "\n",
    "table = messari_chart(financial_df, layout=layout)\n",
    "\n",
    "table.name = 'AaveQuarterly_IncomeStatement'\n",
    "table.title = 'Aave Quarterly Income Statement'\n",
    "table.subtitle = 'Quarter over quarter financial statements'\n",
    "table.sources = 'Messari, The Graph, Aave, Dune (@messari)'\n",
    "table.note = 'All Aave versions are included and aggregated by chain where applicable'\n",
    "\n",
    "table.table_config['row_spacing'] = 36\n",
    "\n",
    "table.rows = {\n",
    "  'interest_revenue': {'display_name': 'Interest Revenue',     'df_column': 'dailyTotalRevenueUSD', 'value_format': \"${:,.1f}\", 'calc_method': 'sum', 'heading_font': 'Montserrat-Reg', 'contribute_topline': True}, \n",
    "  #'liquidation_revenue': {'display_name': 'Outstanding Deposits','df_column': None, 'value_format': \"${:,.1f}\", 'calc_method': 'last', 'heading_font': 'Montserrat-Reg'}, \n",
    "  'depositor_claims': {'display_name': '(-) Depositor Claims',  'df_column': 'dailySupplySideRevenueUSD', 'value_format': \"${:,.1f}\", 'calc_method': 'sum', 'heading_font': 'Montserrat-Reg', 'sign': -1}, \n",
    "  'gross_revenue':    {'display_name': 'Gross Protocol Revenue','df_column': 'dailyProtocolSideRevenueUSD', 'value_format': \"${:,.1f}\", 'calc_method': 'subtotal_rows', 'subtotal_rows': [0,1]}, \n",
    "  'gross_margin':     {'display_name': 'Margin',                'df_column': 'none', 'value_format': \"{0:.1%}\", 'calc_method': 'margin', 'denomination': 1, 'heading_font': 'Open-Sans-Italic'}, \n",
    "  #'treasury_expenses': {'display_name': '(-) Treasury Expenses','df_column': 'roa', 'value_format': \"{0:.1%}\", 'calc_method': 'avg', 'denomination': 1},\n",
    "  'grants_issued':    {'display_name': '(-) Grants Issued','df': grants_df,'df_column': 'Amount Paid', 'value_format': \"${:,.1f}\", 'calc_method': 'sum', 'sign': -1, 'heading_font': 'Montserrat-Reg'}, \n",
    "  'net_income':       {'display_name': 'Net Income','df_column': 'none', 'value_format': \"${:,.1f}\", 'calc_method': 'subtotal_rows', 'subtotal_rows': [2,4]}, \n",
    "  'net_margin':       {'display_name': 'Margin', 'df_column': 'none', 'value_format': \"{0:.1%}\", 'calc_method': 'margin', 'denomination': 1, 'heading_font': 'Open-Sans-Italic'}, \n",
    "  'token_incentives': {'display_name': 'Token Incentives','df': supply_df_q.fillna(0), 'df_column': 'supply_chg', 'value_format': \"${:,.1f}\", 'calc_method': 'last', 'heading_font': 'Montserrat-Reg', 'sign': -1}, \n",
    "  'per_circ_supply':  {'display_name': 'Percent of Circulating Supply', 'df': supply_df_q.fillna(0),  'df_column': 'per_supply', 'value_format': \"{0:.1%}\", 'calc_method': 'last', 'denomination': 1, 'heading_font': 'Open-Sans-Italic', 'row_spacing': int(table.table_config['row_spacing']*0.25), 'font_size': int(table.table_config['font_size'] * 0.75)}, \n",
    "  'net_adj_revenue':  {'display_name': 'Adjusted Net Income','df_column': 'dailyDepositUSD', 'value_format': \"${:,.1f}\",'calc_method': 'subtotal_rows', 'subtotal_rows': [5,7]}, \n",
    "  'net_adj_margin':   {'display_name': 'Margin', 'df_column': 'user_address', 'value_format': \"{0:.1%}\", 'calc_method': 'margin', 'denomination': 1, 'heading_font': 'Open-Sans-Italic'}\n",
    "}\n",
    "\n",
    "table.buildTable(auto_select_quarter = True) # -- auto select quarter basically assumes 1) you want quarterly periods and 2) the df was collected after the quarter you are interested in (i.e. you dont need to filter)\n",
    "table.createSlide()"
   ]
  },
  {
   "cell_type": "code",
   "execution_count": null,
   "metadata": {
    "pycharm": {
     "name": "#%%\n"
    }
   },
   "outputs": [],
   "source": [
    "rows = {\n",
    "  'row name': {\n",
    "    'display_name': '',        # -- str: [REQUIRED]the row header printed on the table \n",
    "    'font': '',                # -- str: font name as a string. 1) must match the dict keys of table object font var 2) only used to overide table config for specific row \n",
    "    'font_size': '',           # -- int: font size. used only to overide the table default for a specific row \n",
    "    'row_spacing': '',         # -- int: number of pixels of spacing between previous row \n",
    "    'sign': '',                # -- int: controls whether a value is added or subtracted from a subtotal. either -1 or 1. defaults to 1 so dont need to pass\n",
    "    'denomination': '',        # -- str: controls what to divide the value by. either thousands, millions, or billions. uses table default if none provided. passing anything else will force it to use 1 (i.e not redenominate)\n",
    "    'value_format': '',        # -- str: specific format for the value. example: \"${x:,.1f}\" will format in dollars with a single decimal\n",
    "    'temp_df': '',             # -- df:  pandas df to calc the value from. table default used if not provided \n",
    "    'df_column': '',           # -- str: [REQUIRED] the column header in the df of the value calculated in the row \n",
    "    'calc_method': '',         # -- str: controls how to calculate the value for the period. options = ['sum', 'avg', 'last', 'margin']. Sum will sum value for the quarter, last gets value on last day of quarter, and margin says calc from table values instead\n",
    "    'contribute_topline': '',  # -- bool: controls whether the value is counted in the top line of the column. used for margin calculations where the top line total is the denominator\n",
    "    'y': '',                   # -- int: manual y coordinate placement for the row (use if you dont wanna figure out a row location from spacing)\n",
    "    'placeholder__': '', \n",
    "  }\n",
    "}\n",
    "\n",
    "columns = {\n",
    "  'col_name': {\n",
    "    'padding': 8,          # -- int: amount of pixel padding to be added between the column right edge and the value \n",
    "    'col_width': '',       # -- int: overrides the default column width in pixels \n",
    "    'placeholder__': ''\n",
    "  }\n",
    "}"
   ]
  },
  {
   "cell_type": "markdown",
   "metadata": {
    "pycharm": {
     "name": "#%% md\n"
    }
   },
   "source": [
    "# -- delete later "
   ]
  },
  {
   "cell_type": "code",
   "execution_count": null,
   "metadata": {
    "pycharm": {
     "name": "#%%\n"
    }
   },
   "outputs": [],
   "source": [
    "sol_df = pd.read_csv('solana dex users.csv')"
   ]
  },
  {
   "cell_type": "code",
   "execution_count": null,
   "metadata": {
    "pycharm": {
     "name": "#%%\n"
    }
   },
   "outputs": [],
   "source": [
    "sol_df.columns"
   ]
  },
  {
   "cell_type": "code",
   "execution_count": null,
   "metadata": {
    "pycharm": {
     "name": "#%%\n"
    }
   },
   "outputs": [],
   "source": [
    "plot_df = sol_df.groupby(['day','DEX'])['dau'].sum().unstack()\n",
    "plot_df.sort_index() "
   ]
  },
  {
   "cell_type": "code",
   "execution_count": null,
   "metadata": {
    "pycharm": {
     "name": "#%%\n"
    }
   },
   "outputs": [],
   "source": [
    "new_cols = list(plot_df.sum().sort_values(ascending = False).index)\n",
    "plot_df = plot_df[new_cols[:-4]]\n",
    "\n",
    "plot_df"
   ]
  },
  {
   "cell_type": "code",
   "execution_count": null,
   "metadata": {
    "pycharm": {
     "name": "#%%\n"
    }
   },
   "outputs": [],
   "source": [
    "\n",
    "sol_df.set_index('day')"
   ]
  },
  {
   "cell_type": "code",
   "execution_count": null,
   "metadata": {
    "pycharm": {
     "name": "#%%\n"
    }
   },
   "outputs": [],
   "source": [
    "main_colors = ['#1B80F3','#00D1FF','#1BF38C','#9766FF','#F3D64E','#E76BA6','#F2A258','#7CB5F6','#81E8FF','#89EABB','#B698F8','#FEAFD4','#F5E391','#F3B09B']\n"
   ]
  },
  {
   "cell_type": "code",
   "execution_count": null,
   "metadata": {
    "pycharm": {
     "name": "#%%\n"
    }
   },
   "outputs": [],
   "source": [
    "# -- create you're own df (can be any data) - usually this is some sorta groupby statement like used here \n",
    "#plot_df = financial_df.groupby('date')[['dailySupplySideRevenueUSD', 'dailyProtocolSideRevenueUSD']].sum().rolling(7).mean() / 1000000 # -- put in millions (can make this a auto detect func)\n",
    "\n",
    "# -- create chart object\n",
    "chart = messari_chart(plot_df, layout= 'full_width_bottom')\n",
    "\n",
    "# -- define chart text -- future: treat protocol name as a variable and jsut auto create a lot of this \n",
    "chart.name = 'solana_dex_users'\n",
    "chart.title = \"StepN's Daily Active Users Dominate Solana DEXs\"\n",
    "chart.subtitle = 'Daily active users across Solana DEXs'\n",
    "chart.sources = 'Dune (@twocrows)'\n",
    "chart.note = 'StepN switched from using Orca as their DEX to using their own'\n",
    "\n",
    "\n",
    "# -- define chart axis title \n",
    "chart.axis_label = 'Daily Active DEX Users'\n",
    "chart.axis_format = '{x:,.0f}' # -- this will format in millions with one decimal place: $1.5M\n",
    "chart.side_legend_decimals = 1\n",
    "\n",
    "chart.date = 'July 29, 2022'\n",
    "\n",
    "# -- assign dif color set (overrides the default)\n",
    "chart.color_pallet = main_colors\n",
    "\n",
    "chart.loc_y = 75\n",
    "# -- create raw python chart \n",
    "chart.plotBasicChart(kind= 'bar', color_legend_chg= True, stacked=True, group_method='daily_bar')\n",
    "\n",
    "# -- export final messari chart \n",
    "chart.createSlide()"
   ]
  },
  {
   "cell_type": "code",
   "execution_count": null,
   "metadata": {
    "pycharm": {
     "name": "#%%\n"
    }
   },
   "outputs": [],
   "source": [
    "chart.loc_y"
   ]
  },
  {
   "cell_type": "code",
   "execution_count": null,
   "metadata": {
    "pycharm": {
     "name": "#%%\n"
    }
   },
   "outputs": [],
   "source": [
    "ax = plot_df.plot.bar(stacked=True, figsize=(10,5))\n",
    "\n",
    "# Create list of monthly timestamps by selecting the first weekly timestamp of each\n",
    "# month (in this example, the first Sunday of each month)\n",
    "monthly_timestamps = [timestamp for idx, timestamp in enumerate(plot_df.index)\n",
    "                      if (timestamp.month != plot_df.index[idx-1].month) | (idx == 0)]\n",
    "\n",
    "# Automatically select appropriate number of timestamps so that x-axis does\n",
    "# not get overcrowded with tick labels\n",
    "step = 1\n",
    "while len(monthly_timestamps[::step]) > 10: # increase number if time range >3 years\n",
    "    step += 1\n",
    "timestamps = monthly_timestamps[::step]\n",
    "\n",
    "# Create tick labels from timestamps\n",
    "labels = [ts.strftime('%b\\n%Y') if ts.year != timestamps[idx-1].year\n",
    "          else ts.strftime('%b') for idx, ts in enumerate(timestamps)]\n",
    "\n",
    "# Set major ticks and labels\n",
    "ax.set_xticks([plot_df.index.get_loc(ts) for ts in timestamps])\n",
    "ax.set_xticklabels(labels)\n",
    "\n",
    "# Set minor ticks without labels\n",
    "ax.set_xticks([plot_df.index.get_loc(ts) for ts in monthly_timestamps], minor=True)\n",
    "\n",
    "# Rotate and center labels\n",
    "ax.figure.autofmt_xdate(rotation=0, ha='center')"
   ]
  },
  {
   "cell_type": "code",
   "execution_count": null,
   "metadata": {
    "pycharm": {
     "name": "#%%\n"
    }
   },
   "outputs": [],
   "source": [
    "import matplotlib.dates as mdates\n",
    "import numpy as np"
   ]
  },
  {
   "cell_type": "code",
   "execution_count": null,
   "metadata": {
    "pycharm": {
     "name": "#%%\n"
    }
   },
   "outputs": [],
   "source": [
    "# Create pandas stacked bar chart with the default bar width = 0.5\n",
    "ax = plot_df.plot.bar(stacked=True, figsize=(10,5))\n",
    "\n",
    "# Compute width of bars in matplotlib date units, 'md' (in days) and adjust it if\n",
    "# the bar width in df.plot.bar has been set to something else than the default 0.5\n",
    "bar_width_md_default, = np.diff(mdates.date2num(plot_df.index[:2]))/2\n",
    "bar_width = ax.patches[0].get_width()\n",
    "bar_width_md = bar_width*bar_width_md_default/0.5\n",
    "\n",
    "# Compute new x values in matplotlib date units for the patches (rectangles) that\n",
    "# make up the stacked bars, adjusting the positions according to the bar width:\n",
    "# if the frequency is in months (or years), the bars may not always be perfectly\n",
    "# centered over the tick marks depending on the number of days difference between\n",
    "# the months (or years) given by df.index[0] and [1] used to compute the bar \n",
    "# width, this should not be noticeable if the bars are wide enough.\n",
    "x_bars_md = mdates.date2num(plot_df.index) - bar_width_md/2\n",
    "nvar = len(ax.get_legend_handles_labels()[1])\n",
    "x_patches_md = np.ravel(nvar*[x_bars_md])\n",
    "\n",
    "# Set bars to new x positions and adjust width: this loop works fine with NaN\n",
    "# values as well because in bar plot NaNs are drawn with a rectangle of 0 height\n",
    "# located at the foot of the bar, you can verify this with patch.get_bbox()\n",
    "for patch, x_md in zip(ax.patches, x_patches_md):\n",
    "    patch.set_x(x_md)\n",
    "    patch.set_width(bar_width_md)\n",
    "\n",
    "# Set major ticks\n",
    "maj_loc = mdates.AutoDateLocator()\n",
    "ax.xaxis.set_major_locator(maj_loc)\n",
    "\n",
    "# Show minor tick under each bar (instead of each month) to highlight\n",
    "# discrepancy between major tick locator and bar positions seeing as no tick\n",
    "# locator is available for first-week-of-the-month frequency\n",
    "ax.set_xticks(x_bars_md + bar_width_md/2, minor=True)\n",
    "\n",
    "# Set major tick formatter\n",
    "zfmts = ['', '%b\\n%Y', '%b', '%b-%d', '%H:%M', '%H:%M']\n",
    "fmt = mdates.ConciseDateFormatter(maj_loc, zero_formats=zfmts, show_offset=False)\n",
    "ax.xaxis.set_major_formatter(fmt)\n",
    "\n",
    "# Shift the plot frame to where the bars are now located\n",
    "xmin = min(x_bars_md) - bar_width_md\n",
    "xmax = max(x_bars_md) + 2*bar_width_md\n",
    "ax.set_xlim(xmin, xmax)\n",
    "\n",
    "# Adjust tick label format last, else it may sometimes not be applied correctly\n",
    "ax.figure.autofmt_xdate(rotation=0, ha='center')"
   ]
  },
  {
   "cell_type": "code",
   "execution_count": null,
   "metadata": {
    "pycharm": {
     "name": "#%%\n"
    }
   },
   "outputs": [],
   "source": []
  }
 ],
 "metadata": {
  "kernelspec": {
   "display_name": "Python 3 (ipykernel)",
   "language": "python",
   "name": "python3"
  },
  "language_info": {
   "codemirror_mode": {
    "name": "ipython",
    "version": 3
   },
   "file_extension": ".py",
   "mimetype": "text/x-python",
   "name": "python",
   "nbconvert_exporter": "python",
   "pygments_lexer": "ipython3",
   "version": "3.9.12"
  },
  "vscode": {
   "interpreter": {
    "hash": "03d05940a5bf8349b073acd823df2c000a7c6001e8328acf41a1e4a681ef3e6a"
   }
  }
 },
 "nbformat": 4,
 "nbformat_minor": 2
}
